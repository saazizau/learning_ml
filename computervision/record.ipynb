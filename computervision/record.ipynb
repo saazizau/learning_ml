{
 "cells": [
  {
   "cell_type": "code",
   "execution_count": null,
   "metadata": {},
   "outputs": [],
   "source": [
    "%pip install pyautogui"
   ]
  },
  {
   "cell_type": "code",
   "execution_count": null,
   "metadata": {},
   "outputs": [],
   "source": [
    "%pip install pygetwindow pyautogui opencv-python"
   ]
  },
  {
   "cell_type": "code",
   "execution_count": 3,
   "metadata": {},
   "outputs": [
    {
     "name": "stdout",
     "output_type": "stream",
     "text": [
      "Screenshot captured successfully: screenshot_2024-01-25_10-24-12.png\n"
     ]
    }
   ],
   "source": [
    "import pyautogui\n",
    "import datetime\n",
    "\n",
    "def capture_screenshot():\n",
    "    try:\n",
    "        # Capture the screen\n",
    "        screenshot = pyautogui.screenshot()\n",
    "\n",
    "        # Generate a timestamp for the file name\n",
    "        timestamp = datetime.datetime.now().strftime(\"%Y-%m-%d_%H-%M-%S\")\n",
    "\n",
    "        # Save the screenshot with a timestamped filename\n",
    "        screenshot.save(f\"screenshot_{timestamp}.png\")\n",
    "        print(f\"Screenshot captured successfully: screenshot_{timestamp}.png\")\n",
    "\n",
    "    except Exception as e:\n",
    "        print(f\"Error capturing screenshot: {str(e)}\")\n",
    "\n",
    "# Call the function to capture a screenshot\n",
    "capture_screenshot()"
   ]
  },
  {
   "cell_type": "code",
   "execution_count": 5,
   "metadata": {},
   "outputs": [
    {
     "ename": "KeyboardInterrupt",
     "evalue": "",
     "output_type": "error",
     "traceback": [
      "\u001b[1;31m---------------------------------------------------------------------------\u001b[0m",
      "\u001b[1;31mKeyboardInterrupt\u001b[0m                         Traceback (most recent call last)",
      "Cell \u001b[1;32mIn[5], line 29\u001b[0m\n\u001b[0;32m     26\u001b[0m frame \u001b[38;5;241m=\u001b[39m cv2\u001b[38;5;241m.\u001b[39mcvtColor(frame, cv2\u001b[38;5;241m.\u001b[39mCOLOR_RGB2BGR)\n\u001b[0;32m     28\u001b[0m \u001b[38;5;66;03m# Write the frame to the video file\u001b[39;00m\n\u001b[1;32m---> 29\u001b[0m \u001b[43mout\u001b[49m\u001b[38;5;241;43m.\u001b[39;49m\u001b[43mwrite\u001b[49m\u001b[43m(\u001b[49m\u001b[43mframe\u001b[49m\u001b[43m)\u001b[49m\n\u001b[0;32m     31\u001b[0m \u001b[38;5;66;03m# Display the frame (optional)\u001b[39;00m\n\u001b[0;32m     32\u001b[0m cv2\u001b[38;5;241m.\u001b[39mimshow(\u001b[38;5;124m\"\u001b[39m\u001b[38;5;124mScreen Recording\u001b[39m\u001b[38;5;124m\"\u001b[39m, frame)\n",
      "\u001b[1;31mKeyboardInterrupt\u001b[0m: "
     ]
    },
    {
     "ename": "",
     "evalue": "",
     "output_type": "error",
     "traceback": [
      "\u001b[1;31mThe Kernel crashed while executing code in the the current cell or a previous cell. Please review the code in the cell(s) to identify a possible cause of the failure. Click <a href='https://aka.ms/vscodeJupyterKernelCrash'>here</a> for more info. View Jupyter <a href='command:jupyter.viewOutput'>log</a> for further details."
     ]
    }
   ],
   "source": [
    "import cv2\n",
    "import pygetwindow as gw\n",
    "import pyautogui\n",
    "import numpy as np\n",
    "\n",
    "# Set the screen size (adjust if needed)\n",
    "screen_width, screen_height = 1920, 1080\n",
    "\n",
    "# Set the output video file name\n",
    "output_file = \"screen_recording.avi\"\n",
    "\n",
    "# Set the codec and frames per second (fps) for video encoding\n",
    "fourcc = cv2.VideoWriter_fourcc(*\"XVID\")\n",
    "fps = 20.0\n",
    "\n",
    "# Create a VideoWriter object\n",
    "out = cv2.VideoWriter(output_file, fourcc, fps, (screen_width, screen_height))\n",
    "\n",
    "try:\n",
    "    while True:\n",
    "        # Capture the screen\n",
    "        screenshot = pyautogui.screenshot()\n",
    "        frame = np.array(screenshot)\n",
    "\n",
    "        # Convert RGB to BGR\n",
    "        frame = cv2.cvtColor(frame, cv2.COLOR_RGB2BGR)\n",
    "\n",
    "        # Write the frame to the video file\n",
    "        out.write(frame)\n",
    "\n",
    "        # Display the frame (optional)\n",
    "        cv2.imshow(\"Screen Recording\", frame)\n",
    "\n",
    "        # Break the loop when 'q' key is pressed\n",
    "        if cv2.waitKey(1) & 0xFF == ord(\"q\"):\n",
    "            break\n",
    "\n",
    "finally:\n",
    "    # Release resources\n",
    "    out.release()\n",
    "    cv2.destroyAllWindows()\n"
   ]
  }
 ],
 "metadata": {
  "kernelspec": {
   "display_name": "Python 3",
   "language": "python",
   "name": "python3"
  },
  "language_info": {
   "codemirror_mode": {
    "name": "ipython",
    "version": 3
   },
   "file_extension": ".py",
   "mimetype": "text/x-python",
   "name": "python",
   "nbconvert_exporter": "python",
   "pygments_lexer": "ipython3",
   "version": "3.10.11"
  }
 },
 "nbformat": 4,
 "nbformat_minor": 2
}
